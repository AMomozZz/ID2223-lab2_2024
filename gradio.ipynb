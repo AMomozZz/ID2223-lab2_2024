{
  "cells": [
    {
      "cell_type": "code",
      "execution_count": null,
      "metadata": {
        "id": "PpnlKYQttRpt"
      },
      "outputs": [],
      "source": [
        "%%capture\n",
        "!pip install gradio\n",
        "!pip install unsloth\n",
        "# Also get the latest nightly Unsloth!\n",
        "!pip uninstall unsloth -y && pip install --upgrade --no-cache-dir --no-deps git+https://github.com/unslothai/unsloth.git\n",
        "!pip install peft==0.14.0\n",
        "!pip install huggingface_hub\n",
        "!pip install transformers==4.46.3"
      ]
    },
    {
      "cell_type": "code",
      "source": [
        "!python --version\n",
        "!pip list | grep -E 'peft|transformers|unsloth'"
      ],
      "metadata": {
        "colab": {
          "base_uri": "https://localhost:8080/"
        },
        "id": "4If2hHGSwihE",
        "outputId": "3d8aa73e-4bda-4f4e-fb8c-aeae24cfaf0e"
      },
      "execution_count": null,
      "outputs": [
        {
          "output_type": "stream",
          "name": "stdout",
          "text": [
            "Python 3.10.12\n",
            "peft                               0.14.0\n",
            "sentence-transformers              3.2.1\n",
            "transformers                       4.46.3\n",
            "unsloth                            2024.12.4\n",
            "unsloth_zoo                        2024.12.1\n"
          ]
        }
      ]
    },
    {
      "cell_type": "code",
      "source": [
        "from unsloth import FastLanguageModel\n",
        "from huggingface_hub import snapshot_download\n",
        "from transformers import AutoConfig\n",
        "models = {\n",
        "    \"orpo\": \"EITD/orpo_1\",\n",
        "    # \"orpo\": \"EITD/orpo\",\n",
        "    \"origin_llama\": \"unsloth/Llama-3.2-1B-Instruct\",\n",
        "}\n",
        "\n",
        "output_dir = \"./models\"\n",
        "\n",
        "for model in models.values():\n",
        "    print(f\"Downloading model: {model}\")\n",
        "    snapshot_download(repo_id=model, local_dir=f\"{output_dir}/{model}\")\n",
        "    print(f\"Model {model} downloaded successfully!\")"
      ],
      "metadata": {
        "colab": {
          "base_uri": "https://localhost:8080/"
        },
        "id": "u-IbNZ1oj1Wq",
        "outputId": "2724e641-5c97-467c-ec31-d8e2da2a84a4"
      },
      "execution_count": null,
      "outputs": [
        {
          "output_type": "stream",
          "name": "stdout",
          "text": [
            "Downloading model: EITD/orpo_1\n",
            "Model EITD/orpo_1 downloaded successfully!\n",
            "Downloading model: unsloth/Llama-3.2-1B-Instruct\n",
            "Model unsloth/Llama-3.2-1B-Instruct downloaded successfully!\n"
          ]
        }
      ]
    },
    {
      "cell_type": "code",
      "source": [
        "def load_model(model_name):\n",
        "    model_path = \"./models/\" + models.get(model_name)\n",
        "    model, tokenizer = FastLanguageModel.from_pretrained(\n",
        "        model_name = model_path, # YOUR MODEL YOU USED FOR TRAINING\n",
        "        max_seq_length = 2048,\n",
        "        dtype = None,\n",
        "        load_in_4bit = True,\n",
        "    )\n",
        "    return model, tokenizer\n",
        "\n",
        "def update_model_and_tokenizer(model_name):\n",
        "    global model, tokenizer\n",
        "    model, tokenizer = load_model(model_name)\n",
        "    FastLanguageModel.for_inference(model)\n",
        "    print(f\"now using {model_name}\")"
      ],
      "metadata": {
        "id": "ULXN-Jzsj5Np"
      },
      "execution_count": null,
      "outputs": []
    },
    {
      "cell_type": "code",
      "execution_count": null,
      "metadata": {
        "id": "u6-fyRwZuPxv"
      },
      "outputs": [],
      "source": [
        "def respond(\n",
        "    message,\n",
        "    history: list[tuple[str, str]],\n",
        "    model_name,\n",
        "    system_message,\n",
        "    max_tokens,\n",
        "    temperature,\n",
        "    top_p,\n",
        "):\n",
        "    messages = [{\"role\": \"system\", \"content\": system_message}]\n",
        "\n",
        "    for val in history:\n",
        "        if val[0]:\n",
        "            messages.append({\"role\": \"user\", \"content\": val[0]})\n",
        "        if val[1]:\n",
        "            messages.append({\"role\": \"assistant\", \"content\": val[1]})\n",
        "\n",
        "    messages.append({\"role\": \"user\", \"content\": message})\n",
        "\n",
        "    inputs = tokenizer.apply_chat_template(\n",
        "        messages,\n",
        "        tokenize = True,\n",
        "        add_generation_prompt = True, # Must add for generation\n",
        "        return_tensors = \"pt\",\n",
        "    )\n",
        "\n",
        "    outputs = model.generate(input_ids = inputs, max_new_tokens = max_tokens, use_cache = True,\n",
        "                         temperature = temperature, min_p = top_p)\n",
        "\n",
        "    response = tokenizer.batch_decode(outputs, skip_special_tokens=True)[0]\n",
        "\n",
        "    if \"assistant\" in response:\n",
        "        response = response.split(\"assistant\")[-1].strip()\n",
        "\n",
        "    yield response"
      ]
    },
    {
      "cell_type": "code",
      "execution_count": null,
      "metadata": {
        "id": "0hTn6M_Fyjex",
        "colab": {
          "base_uri": "https://localhost:8080/",
          "height": 811
        },
        "outputId": "ba6efae2-33f2-4486-f523-f64858821dd1"
      },
      "outputs": [
        {
          "output_type": "stream",
          "name": "stdout",
          "text": [
            "==((====))==  Unsloth 2024.12.4: Fast Llama patching. Transformers:4.46.3.\n",
            "   \\\\   /|    GPU: Tesla T4. Max memory: 14.748 GB. Platform: Linux.\n",
            "O^O/ \\_/ \\    Torch: 2.5.1+cu121. CUDA: 7.5. CUDA Toolkit: 12.1. Triton: 3.1.0\n",
            "\\        /    Bfloat16 = FALSE. FA [Xformers = 0.0.28.post3. FA2 = False]\n",
            " \"-____-\"     Free Apache license: http://github.com/unslothai/unsloth\n",
            "Unsloth: Fast downloading is enabled - ignore downloading bars which are red colored!\n",
            "now using orpo\n"
          ]
        },
        {
          "output_type": "stream",
          "name": "stderr",
          "text": [
            "/usr/local/lib/python3.10/dist-packages/gradio/components/chatbot.py:243: UserWarning: The 'tuples' format for chatbot messages is deprecated and will be removed in a future version of Gradio. Please set type='messages' instead, which uses openai-style 'role' and 'content' keys.\n",
            "  warnings.warn(\n"
          ]
        },
        {
          "output_type": "stream",
          "name": "stdout",
          "text": [
            "Running Gradio in a Colab notebook requires sharing enabled. Automatically setting `share=True` (you can turn this off by setting `share=False` in `launch()` explicitly).\n",
            "\n",
            "Colab notebook detected. To show errors in colab notebook, set debug=True in launch()\n",
            "* Running on public URL: https://dc0a81bb3d797fb501.gradio.live\n",
            "\n",
            "This share link expires in 72 hours. For free permanent hosting and GPU upgrades, run `gradio deploy` from the terminal in the working directory to deploy to Hugging Face Spaces (https://huggingface.co/spaces)\n"
          ]
        },
        {
          "output_type": "display_data",
          "data": {
            "text/plain": [
              "<IPython.core.display.HTML object>"
            ],
            "text/html": [
              "<div><iframe src=\"https://dc0a81bb3d797fb501.gradio.live\" width=\"100%\" height=\"500\" allow=\"autoplay; camera; microphone; clipboard-read; clipboard-write;\" frameborder=\"0\" allowfullscreen></iframe></div>"
            ]
          },
          "metadata": {}
        }
      ],
      "source": [
        "import gradio as gr\n",
        "\n",
        "model, tokenizer = None, None\n",
        "\n",
        "model_dropdown = gr.Dropdown(choices=list(models.keys()), label=\"Choose a Language Model\", value=\"orpo\")\n",
        "system_message = gr.Textbox(value=\"You are a friendly Chatbot.\", label=\"System message\")\n",
        "new_token = gr.Slider(minimum=1, maximum=2048, value=512, step=1, label=\"Max new tokens\")\n",
        "temperature = gr.Slider(minimum=0.1, maximum=4.0, value=0.7, step=0.1, label=\"Temperature\")\n",
        "top_p = gr.Slider(minimum=0.1, maximum=1.0, value=0.95, step=0.05, label=\"Top-p (nucleus sampling)\")\n",
        "\n",
        "update_model_and_tokenizer(model_dropdown.value)\n",
        "\n",
        "with gr.Blocks(fill_height = True, fill_width = True) as demo:\n",
        "    model_dropdown.change(update_model_and_tokenizer, inputs=model_dropdown, outputs=None)\n",
        "\n",
        "    chatbot = gr.ChatInterface(\n",
        "        respond,\n",
        "        additional_inputs=[model_dropdown, system_message, new_token, temperature, top_p],\n",
        "        title=\"HuggingFace Chatbot\",\n",
        "        description=\"A chat assistant using a Hugging Face model that supports custom system prompts, token length, generation temperature, and other parameters.\",\n",
        "    )\n",
        "\n",
        "\n",
        "if __name__ == \"__main__\":\n",
        "    demo.launch()"
      ]
    }
  ],
  "metadata": {
    "accelerator": "GPU",
    "colab": {
      "gpuType": "T4",
      "provenance": []
    },
    "kernelspec": {
      "display_name": "Python 3",
      "name": "python3"
    },
    "language_info": {
      "name": "python"
    }
  },
  "nbformat": 4,
  "nbformat_minor": 0
}